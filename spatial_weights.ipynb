{
 "cells": [
  {
   "cell_type": "code",
   "execution_count": 1,
   "id": "e272d269-dff6-4597-b1ce-382b38bbc495",
   "metadata": {},
   "outputs": [
    {
     "name": "stderr",
     "output_type": "stream",
     "text": [
      "ERROR 1: PROJ: proj_create_from_database: Open of /opt/conda/share/proj failed\n"
     ]
    }
   ],
   "source": [
    "# Imports\n",
    "import geopandas as gpd\n",
    "import numpy as np\n",
    "import matplotlib.pyplot as plt\n",
    "import pandas as pd"
   ]
  },
  {
   "cell_type": "markdown",
   "id": "76b7d1a2-34ae-4bd1-96ad-2e3d06e6fcb7",
   "metadata": {},
   "source": [
    "## Explore options for creating spatial weights matrix"
   ]
  },
  {
   "cell_type": "markdown",
   "id": "09e79579-6f21-4c5c-8cb7-fb5cafbb04c3",
   "metadata": {},
   "source": [
    "### Read and prepare data"
   ]
  },
  {
   "cell_type": "code",
   "execution_count": 18,
   "id": "ae2523cc-a256-41cf-997a-7b5c7204c3c5",
   "metadata": {},
   "outputs": [
    {
     "data": {
      "text/html": [
       "<div>\n",
       "<style scoped>\n",
       "    .dataframe tbody tr th:only-of-type {\n",
       "        vertical-align: middle;\n",
       "    }\n",
       "\n",
       "    .dataframe tbody tr th {\n",
       "        vertical-align: top;\n",
       "    }\n",
       "\n",
       "    .dataframe thead th {\n",
       "        text-align: right;\n",
       "    }\n",
       "</style>\n",
       "<table border=\"1\" class=\"dataframe\">\n",
       "  <thead>\n",
       "    <tr style=\"text-align: right;\">\n",
       "      <th></th>\n",
       "      <th>id</th>\n",
       "      <th>rooms</th>\n",
       "      <th>area</th>\n",
       "      <th>rent</th>\n",
       "      <th>latitude</th>\n",
       "      <th>longitude</th>\n",
       "    </tr>\n",
       "  </thead>\n",
       "  <tbody>\n",
       "    <tr>\n",
       "      <th>0</th>\n",
       "      <td>5248131</td>\n",
       "      <td>1</td>\n",
       "      <td>38</td>\n",
       "      <td>5216</td>\n",
       "      <td>55.652406</td>\n",
       "      <td>12.512200</td>\n",
       "    </tr>\n",
       "    <tr>\n",
       "      <th>1</th>\n",
       "      <td>5275700</td>\n",
       "      <td>1</td>\n",
       "      <td>37</td>\n",
       "      <td>7900</td>\n",
       "      <td>55.671065</td>\n",
       "      <td>12.501394</td>\n",
       "    </tr>\n",
       "    <tr>\n",
       "      <th>2</th>\n",
       "      <td>5211187</td>\n",
       "      <td>1</td>\n",
       "      <td>40</td>\n",
       "      <td>6300</td>\n",
       "      <td>55.649554</td>\n",
       "      <td>12.551497</td>\n",
       "    </tr>\n",
       "    <tr>\n",
       "      <th>3</th>\n",
       "      <td>5263181</td>\n",
       "      <td>3</td>\n",
       "      <td>73</td>\n",
       "      <td>11000</td>\n",
       "      <td>55.663465</td>\n",
       "      <td>12.542260</td>\n",
       "    </tr>\n",
       "    <tr>\n",
       "      <th>4</th>\n",
       "      <td>5249720</td>\n",
       "      <td>3</td>\n",
       "      <td>73</td>\n",
       "      <td>11000</td>\n",
       "      <td>55.663465</td>\n",
       "      <td>12.542260</td>\n",
       "    </tr>\n",
       "  </tbody>\n",
       "</table>\n",
       "</div>"
      ],
      "text/plain": [
       "        id  rooms  area   rent   latitude  longitude\n",
       "0  5248131      1    38   5216  55.652406  12.512200\n",
       "1  5275700      1    37   7900  55.671065  12.501394\n",
       "2  5211187      1    40   6300  55.649554  12.551497\n",
       "3  5263181      3    73  11000  55.663465  12.542260\n",
       "4  5249720      3    73  11000  55.663465  12.542260"
      ]
     },
     "execution_count": 18,
     "metadata": {},
     "output_type": "execute_result"
    }
   ],
   "source": [
    "# Read data from .csv file, drop apartments without location data\n",
    "df = pd.read_csv(\"data/20-04-23.csv\")\n",
    "df = df[df.longitude != 0.0]\n",
    "df.head()"
   ]
  },
  {
   "cell_type": "code",
   "execution_count": 19,
   "id": "973c8717-f03f-43c8-8392-40a50703ec0b",
   "metadata": {},
   "outputs": [
    {
     "data": {
      "text/html": [
       "<div>\n",
       "<style scoped>\n",
       "    .dataframe tbody tr th:only-of-type {\n",
       "        vertical-align: middle;\n",
       "    }\n",
       "\n",
       "    .dataframe tbody tr th {\n",
       "        vertical-align: top;\n",
       "    }\n",
       "\n",
       "    .dataframe thead th {\n",
       "        text-align: right;\n",
       "    }\n",
       "</style>\n",
       "<table border=\"1\" class=\"dataframe\">\n",
       "  <thead>\n",
       "    <tr style=\"text-align: right;\">\n",
       "      <th></th>\n",
       "      <th>id</th>\n",
       "      <th>rooms</th>\n",
       "      <th>area</th>\n",
       "      <th>rent</th>\n",
       "      <th>latitude</th>\n",
       "      <th>longitude</th>\n",
       "      <th>geometry</th>\n",
       "    </tr>\n",
       "  </thead>\n",
       "  <tbody>\n",
       "    <tr>\n",
       "      <th>0</th>\n",
       "      <td>5248131</td>\n",
       "      <td>1</td>\n",
       "      <td>38</td>\n",
       "      <td>5216</td>\n",
       "      <td>55.652406</td>\n",
       "      <td>12.512200</td>\n",
       "      <td>POINT (12.51220 55.65241)</td>\n",
       "    </tr>\n",
       "    <tr>\n",
       "      <th>1</th>\n",
       "      <td>5275700</td>\n",
       "      <td>1</td>\n",
       "      <td>37</td>\n",
       "      <td>7900</td>\n",
       "      <td>55.671065</td>\n",
       "      <td>12.501394</td>\n",
       "      <td>POINT (12.50139 55.67106)</td>\n",
       "    </tr>\n",
       "    <tr>\n",
       "      <th>2</th>\n",
       "      <td>5211187</td>\n",
       "      <td>1</td>\n",
       "      <td>40</td>\n",
       "      <td>6300</td>\n",
       "      <td>55.649554</td>\n",
       "      <td>12.551497</td>\n",
       "      <td>POINT (12.55150 55.64955)</td>\n",
       "    </tr>\n",
       "    <tr>\n",
       "      <th>3</th>\n",
       "      <td>5263181</td>\n",
       "      <td>3</td>\n",
       "      <td>73</td>\n",
       "      <td>11000</td>\n",
       "      <td>55.663465</td>\n",
       "      <td>12.542260</td>\n",
       "      <td>POINT (12.54226 55.66347)</td>\n",
       "    </tr>\n",
       "    <tr>\n",
       "      <th>4</th>\n",
       "      <td>5249720</td>\n",
       "      <td>3</td>\n",
       "      <td>73</td>\n",
       "      <td>11000</td>\n",
       "      <td>55.663465</td>\n",
       "      <td>12.542260</td>\n",
       "      <td>POINT (12.54226 55.66347)</td>\n",
       "    </tr>\n",
       "  </tbody>\n",
       "</table>\n",
       "</div>"
      ],
      "text/plain": [
       "        id  rooms  area   rent   latitude  longitude  \\\n",
       "0  5248131      1    38   5216  55.652406  12.512200   \n",
       "1  5275700      1    37   7900  55.671065  12.501394   \n",
       "2  5211187      1    40   6300  55.649554  12.551497   \n",
       "3  5263181      3    73  11000  55.663465  12.542260   \n",
       "4  5249720      3    73  11000  55.663465  12.542260   \n",
       "\n",
       "                    geometry  \n",
       "0  POINT (12.51220 55.65241)  \n",
       "1  POINT (12.50139 55.67106)  \n",
       "2  POINT (12.55150 55.64955)  \n",
       "3  POINT (12.54226 55.66347)  \n",
       "4  POINT (12.54226 55.66347)  "
      ]
     },
     "execution_count": 19,
     "metadata": {},
     "output_type": "execute_result"
    }
   ],
   "source": [
    "# Create GeoDataFrame from Pandas DataFrame\n",
    "gdf = gpd.GeoDataFrame(df, geometry=gpd.points_from_xy(df.longitude, df.latitude))\n",
    "gdf.head()"
   ]
  },
  {
   "cell_type": "markdown",
   "id": "cecf3579-7678-4ea9-a472-eff6ce22bf55",
   "metadata": {},
   "source": [
    "### Create distance based spatial weight matrix"
   ]
  },
  {
   "cell_type": "code",
   "execution_count": null,
   "id": "28d77b29-26bb-4ac2-8c03-051f6eb07410",
   "metadata": {},
   "outputs": [],
   "source": []
  }
 ],
 "metadata": {
  "kernelspec": {
   "display_name": "Python 3 (ipykernel)",
   "language": "python",
   "name": "python3"
  },
  "language_info": {
   "codemirror_mode": {
    "name": "ipython",
    "version": 3
   },
   "file_extension": ".py",
   "mimetype": "text/x-python",
   "name": "python",
   "nbconvert_exporter": "python",
   "pygments_lexer": "ipython3",
   "version": "3.9.12"
  }
 },
 "nbformat": 4,
 "nbformat_minor": 5
}
