{
 "cells": [
  {
   "cell_type": "code",
   "execution_count": 59,
   "id": "4a61abb6-1d57-4673-b8fa-f5a352c2abe5",
   "metadata": {},
   "outputs": [],
   "source": [
    "# imports\n",
    "import geopandas as gpd\n",
    "import numpy as np\n",
    "import matplotlib.pyplot as plt\n",
    "import pandas as pd"
   ]
  },
  {
   "cell_type": "markdown",
   "id": "5760354f-ccdc-4d77-b522-cacdf9cee751",
   "metadata": {},
   "source": [
    "### Compare number of duplicates in datasets scraped by Python and Go"
   ]
  },
  {
   "cell_type": "code",
   "execution_count": 60,
   "id": "52bde845-22f5-43f9-b8fa-7611e3fcea69",
   "metadata": {},
   "outputs": [],
   "source": [
    "# Create dataframes\n",
    "df_python = pd.read_csv(\"data/17-04-23.csv\")\n",
    "df_go = pd.read_csv(\"data/17-04-23_go.csv\")"
   ]
  },
  {
   "cell_type": "code",
   "execution_count": 61,
   "id": "c50c8b9c-286b-4362-9811-1eb1131744ff",
   "metadata": {},
   "outputs": [
    {
     "data": {
      "text/plain": [
       "True"
      ]
     },
     "execution_count": 61,
     "metadata": {},
     "output_type": "execute_result"
    }
   ],
   "source": [
    "# Datasets have the same size\n",
    "df_python.id.count() == df_go.id.count()"
   ]
  },
  {
   "cell_type": "code",
   "execution_count": 62,
   "id": "e5f7aa73-92cc-4676-9d48-483e5d7516eb",
   "metadata": {},
   "outputs": [],
   "source": [
    "# Count duplicates\n",
    "p = df_python.duplicated(subset=[\"id\"])\n",
    "g = df_go.duplicated(subset=[\"id\"])"
   ]
  },
  {
   "cell_type": "code",
   "execution_count": 63,
   "id": "7110d11e-97f6-48c0-a275-612958bf2394",
   "metadata": {},
   "outputs": [
    {
     "name": "stdout",
     "output_type": "stream",
     "text": [
      "Out of 1968 records, Python duplicated 185 and Go only 46 \n"
     ]
    }
   ],
   "source": [
    "# Python vs Go\n",
    "print(f\"Out of {df_go.id.count()} records, Python duplicated {len(df_python[p])} and Go only {len(df_go[g])} \")"
   ]
  }
 ],
 "metadata": {
  "kernelspec": {
   "display_name": "Python 3 (ipykernel)",
   "language": "python",
   "name": "python3"
  },
  "language_info": {
   "codemirror_mode": {
    "name": "ipython",
    "version": 3
   },
   "file_extension": ".py",
   "mimetype": "text/x-python",
   "name": "python",
   "nbconvert_exporter": "python",
   "pygments_lexer": "ipython3",
   "version": "3.9.12"
  }
 },
 "nbformat": 4,
 "nbformat_minor": 5
}
